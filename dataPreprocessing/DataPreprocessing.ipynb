{
  "nbformat": 4,
  "nbformat_minor": 0,
  "metadata": {
    "colab": {
      "provenance": []
    },
    "kernelspec": {
      "name": "python3",
      "display_name": "Python 3"
    },
    "language_info": {
      "name": "python"
    }
  },
  "cells": [
    {
      "cell_type": "code",
      "source": [
        "import pandas as pd\n",
        "import numpy as np\n",
        "\n",
        "# Load the dataset\n",
        "diabetes_data = pd.read_csv('diabetic_data.csv', on_bad_lines='skip')\n",
        "\n",
        "# Replace '?' with NaN for easier filtering\n",
        "diabetes_data.replace('?', np.nan, inplace=True)\n",
        "\n",
        "# Drop rows with any NaN values in the selected columns\n",
        "filtered_data = diabetes_data[['race', 'diabetesMed', 'medical_specialty', 'gender', 'age', 'time_in_hospital']].dropna()\n",
        "\n",
        "# Create File 1 (race, diabetesMed, medical_specialty)\n",
        "file1_data = filtered_data[['race', 'diabetesMed', 'medical_specialty']]\n",
        "\n",
        "# Create File 2 (gender, age, time_in_hospital)\n",
        "file2_data = filtered_data[['gender', 'age', 'time_in_hospital']]\n",
        "\n",
        "# Save the partitions as separate CSV files\n",
        "file1_data.to_csv('file1.csv', index=False)\n",
        "file2_data.to_csv('file2.csv', index=False)\n",
        "\n",
        "print(\"Files have been successfully split and saved as 'file1.csv' and 'file2.csv'.\")\n",
        "\n"
      ],
      "metadata": {
        "colab": {
          "base_uri": "https://localhost:8080/"
        },
        "id": "4_CF2hx4FuQf",
        "outputId": "7eadcbb1-98a2-4c5e-e040-5c396339d83b"
      },
      "execution_count": 12,
      "outputs": [
        {
          "output_type": "stream",
          "name": "stderr",
          "text": [
            "<ipython-input-12-123480ed61bf>:5: DtypeWarning: Columns (6,7,8,9,12,13,14,15,16,17,21) have mixed types. Specify dtype option on import or set low_memory=False.\n",
            "  diabetes_data = pd.read_csv('diabetic_data.csv', on_bad_lines='skip')\n"
          ]
        },
        {
          "output_type": "stream",
          "name": "stdout",
          "text": [
            "Files have been successfully split and saved as 'file1.csv' and 'file2.csv'.\n"
          ]
        }
      ]
    }
  ]
}